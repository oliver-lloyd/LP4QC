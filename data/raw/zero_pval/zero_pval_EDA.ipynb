{
 "metadata": {
  "language_info": {
   "codemirror_mode": {
    "name": "ipython",
    "version": 3
   },
   "file_extension": ".py",
   "mimetype": "text/x-python",
   "name": "python",
   "nbconvert_exporter": "python",
   "pygments_lexer": "ipython3",
   "version": "3.7.12-final"
  },
  "orig_nbformat": 2,
  "kernelspec": {
   "name": "python3",
   "display_name": "Python 3.7.12 64-bit ('libkge': conda)",
   "metadata": {
    "interpreter": {
     "hash": "e41f4a0484c58ef9a24f0282607fbe75b061b504ca892ae0b5a7a5592c3b9b8e"
    }
   }
  }
 },
 "nbformat": 4,
 "nbformat_minor": 2,
 "cells": [
  {
   "cell_type": "code",
   "execution_count": 1,
   "metadata": {},
   "outputs": [],
   "source": [
    "import pandas as pd\n",
    "import matplotlib.pyplot as plt\n",
    "import seaborn as sns\n",
    "import numpy as np\n",
    "%matplotlib inline\n",
    "\n",
    "import warnings\n",
    "warnings.filterwarnings(\"ignore\", module='seaborn')"
   ]
  },
  {
   "cell_type": "code",
   "execution_count": 2,
   "metadata": {},
   "outputs": [
    {
     "output_type": "execute_result",
     "data": {
      "text/plain": [
       "            head_node         tail_node  method  nsnp         b        se  \\\n",
       "141       ukb-b-20172  ebi-a-GCST005215  FE IVW     2 -0.458536  0.005123   \n",
       "439       ukb-b-20172         ieu-a-761  FE IVW     2 -0.458536  0.005123   \n",
       "614       ukb-b-20172         met-a-393  FE IVW     2  0.052300  0.000014   \n",
       "817       ukb-b-20172         met-a-596  FE IVW     2  0.071661  0.001676   \n",
       "919       ukb-b-20172         met-a-698  FE IVW     2 -0.120561  0.000727   \n",
       "...               ...               ...     ...   ...       ...       ...   \n",
       "25697170   prot-a-439        ukb-b-7675  FE IVW     2  0.000583  0.000014   \n",
       "25697365   prot-a-439        ukb-b-9058  FE IVW     2  0.000387  0.000004   \n",
       "25697370   prot-a-439        ukb-b-9125  FE IVW     2  0.000356  0.000009   \n",
       "25697904   prot-a-439   ukb-d-30720_raw  FE IVW     3  0.001538  0.000013   \n",
       "25697935   prot-a-439  ukb-d-30880_irnt  FE IVW     3  0.002309  0.000050   \n",
       "\n",
       "            ci_low    ci_upp  pval selection  moescore           source\\n  \n",
       "141      -0.468577 -0.448494   0.0        DF       1.0  MR-EvE-2021-03-10  \n",
       "439      -0.468577 -0.448494   0.0        DF       1.0  MR-EvE-2021-03-10  \n",
       "614       0.052272  0.052327   0.0        DF       1.0  MR-EvE-2021-03-10  \n",
       "817       0.068377  0.074945   0.0        DF       1.0  MR-EvE-2021-03-10  \n",
       "919      -0.121985 -0.119137   0.0        DF       1.0  MR-EvE-2021-03-10  \n",
       "...            ...       ...   ...       ...       ...                ...  \n",
       "25697170  0.000556  0.000610   0.0        DF       1.0  MR-EvE-2021-03-10  \n",
       "25697365  0.000379  0.000396   0.0        DF       1.0  MR-EvE-2021-03-10  \n",
       "25697370  0.000339  0.000374   0.0        DF       1.0  MR-EvE-2021-03-10  \n",
       "25697904  0.001513  0.001564   0.0        DF       1.0  MR-EvE-2021-03-10  \n",
       "25697935  0.002211  0.002408   0.0        DF       1.0  MR-EvE-2021-03-10  \n",
       "\n",
       "[48084 rows x 12 columns]"
      ],
      "text/html": "<div>\n<style scoped>\n    .dataframe tbody tr th:only-of-type {\n        vertical-align: middle;\n    }\n\n    .dataframe tbody tr th {\n        vertical-align: top;\n    }\n\n    .dataframe thead th {\n        text-align: right;\n    }\n</style>\n<table border=\"1\" class=\"dataframe\">\n  <thead>\n    <tr style=\"text-align: right;\">\n      <th></th>\n      <th>head_node</th>\n      <th>tail_node</th>\n      <th>method</th>\n      <th>nsnp</th>\n      <th>b</th>\n      <th>se</th>\n      <th>ci_low</th>\n      <th>ci_upp</th>\n      <th>pval</th>\n      <th>selection</th>\n      <th>moescore</th>\n      <th>source\\n</th>\n    </tr>\n  </thead>\n  <tbody>\n    <tr>\n      <th>141</th>\n      <td>ukb-b-20172</td>\n      <td>ebi-a-GCST005215</td>\n      <td>FE IVW</td>\n      <td>2</td>\n      <td>-0.458536</td>\n      <td>0.005123</td>\n      <td>-0.468577</td>\n      <td>-0.448494</td>\n      <td>0.0</td>\n      <td>DF</td>\n      <td>1.0</td>\n      <td>MR-EvE-2021-03-10</td>\n    </tr>\n    <tr>\n      <th>439</th>\n      <td>ukb-b-20172</td>\n      <td>ieu-a-761</td>\n      <td>FE IVW</td>\n      <td>2</td>\n      <td>-0.458536</td>\n      <td>0.005123</td>\n      <td>-0.468577</td>\n      <td>-0.448494</td>\n      <td>0.0</td>\n      <td>DF</td>\n      <td>1.0</td>\n      <td>MR-EvE-2021-03-10</td>\n    </tr>\n    <tr>\n      <th>614</th>\n      <td>ukb-b-20172</td>\n      <td>met-a-393</td>\n      <td>FE IVW</td>\n      <td>2</td>\n      <td>0.052300</td>\n      <td>0.000014</td>\n      <td>0.052272</td>\n      <td>0.052327</td>\n      <td>0.0</td>\n      <td>DF</td>\n      <td>1.0</td>\n      <td>MR-EvE-2021-03-10</td>\n    </tr>\n    <tr>\n      <th>817</th>\n      <td>ukb-b-20172</td>\n      <td>met-a-596</td>\n      <td>FE IVW</td>\n      <td>2</td>\n      <td>0.071661</td>\n      <td>0.001676</td>\n      <td>0.068377</td>\n      <td>0.074945</td>\n      <td>0.0</td>\n      <td>DF</td>\n      <td>1.0</td>\n      <td>MR-EvE-2021-03-10</td>\n    </tr>\n    <tr>\n      <th>919</th>\n      <td>ukb-b-20172</td>\n      <td>met-a-698</td>\n      <td>FE IVW</td>\n      <td>2</td>\n      <td>-0.120561</td>\n      <td>0.000727</td>\n      <td>-0.121985</td>\n      <td>-0.119137</td>\n      <td>0.0</td>\n      <td>DF</td>\n      <td>1.0</td>\n      <td>MR-EvE-2021-03-10</td>\n    </tr>\n    <tr>\n      <th>...</th>\n      <td>...</td>\n      <td>...</td>\n      <td>...</td>\n      <td>...</td>\n      <td>...</td>\n      <td>...</td>\n      <td>...</td>\n      <td>...</td>\n      <td>...</td>\n      <td>...</td>\n      <td>...</td>\n      <td>...</td>\n    </tr>\n    <tr>\n      <th>25697170</th>\n      <td>prot-a-439</td>\n      <td>ukb-b-7675</td>\n      <td>FE IVW</td>\n      <td>2</td>\n      <td>0.000583</td>\n      <td>0.000014</td>\n      <td>0.000556</td>\n      <td>0.000610</td>\n      <td>0.0</td>\n      <td>DF</td>\n      <td>1.0</td>\n      <td>MR-EvE-2021-03-10</td>\n    </tr>\n    <tr>\n      <th>25697365</th>\n      <td>prot-a-439</td>\n      <td>ukb-b-9058</td>\n      <td>FE IVW</td>\n      <td>2</td>\n      <td>0.000387</td>\n      <td>0.000004</td>\n      <td>0.000379</td>\n      <td>0.000396</td>\n      <td>0.0</td>\n      <td>DF</td>\n      <td>1.0</td>\n      <td>MR-EvE-2021-03-10</td>\n    </tr>\n    <tr>\n      <th>25697370</th>\n      <td>prot-a-439</td>\n      <td>ukb-b-9125</td>\n      <td>FE IVW</td>\n      <td>2</td>\n      <td>0.000356</td>\n      <td>0.000009</td>\n      <td>0.000339</td>\n      <td>0.000374</td>\n      <td>0.0</td>\n      <td>DF</td>\n      <td>1.0</td>\n      <td>MR-EvE-2021-03-10</td>\n    </tr>\n    <tr>\n      <th>25697904</th>\n      <td>prot-a-439</td>\n      <td>ukb-d-30720_raw</td>\n      <td>FE IVW</td>\n      <td>3</td>\n      <td>0.001538</td>\n      <td>0.000013</td>\n      <td>0.001513</td>\n      <td>0.001564</td>\n      <td>0.0</td>\n      <td>DF</td>\n      <td>1.0</td>\n      <td>MR-EvE-2021-03-10</td>\n    </tr>\n    <tr>\n      <th>25697935</th>\n      <td>prot-a-439</td>\n      <td>ukb-d-30880_irnt</td>\n      <td>FE IVW</td>\n      <td>3</td>\n      <td>0.002309</td>\n      <td>0.000050</td>\n      <td>0.002211</td>\n      <td>0.002408</td>\n      <td>0.0</td>\n      <td>DF</td>\n      <td>1.0</td>\n      <td>MR-EvE-2021-03-10</td>\n    </tr>\n  </tbody>\n</table>\n<p>48084 rows × 12 columns</p>\n</div>"
     },
     "metadata": {},
     "execution_count": 2
    }
   ],
   "source": [
    "with open('../mr-eve-mr.header') as f:\n",
    "    cols = f.read().split(',')\n",
    "\n",
    "edges = pd.read_csv('../mr-eve-mr.csv', header=None)\n",
    "edges.columns = cols\n",
    "\n",
    "non_zeros = edges.loc[edges['pval'] != 0]\n",
    "zeros = edges.loc[edges['pval'] == 0]\n",
    "\n",
    "del edges\n",
    "\n",
    "zeros"
   ]
  },
  {
   "cell_type": "code",
   "execution_count": null,
   "metadata": {},
   "outputs": [],
   "source": [
    "lowest_pval = min(non_zeros['pval'])\n",
    "print(f'Lowest non-zero pval = {lowest_pval}')"
   ]
  },
  {
   "cell_type": "code",
   "execution_count": null,
   "metadata": {},
   "outputs": [],
   "source": [
    "sns.distplot(non_zeros['b:float'], rug=True)\n",
    "plt.title('Distribution of effect size for edges with pval > 0')\n",
    "plt.show()"
   ]
  },
  {
   "cell_type": "code",
   "execution_count": null,
   "metadata": {},
   "outputs": [],
   "source": [
    "sns.distplot(zeros['b:float'], rug=True)\n",
    "plt.title('Distribution of effect size for edges with pval=0')\n",
    "plt.show()"
   ]
  },
  {
   "cell_type": "code",
   "execution_count": null,
   "metadata": {},
   "outputs": [],
   "source": [
    "zeros.sort_values('b:float', ascending=False)"
   ]
  },
  {
   "cell_type": "code",
   "execution_count": null,
   "metadata": {},
   "outputs": [],
   "source": [
    "sns.distplot(zeros.loc[np.abs(zeros['b:float']) < 100]['b:float'], norm_hist=False, kde=False)\n",
    "plt.show()"
   ]
  },
  {
   "cell_type": "code",
   "execution_count": null,
   "metadata": {},
   "outputs": [],
   "source": [
    "sns.distplot(zeros.loc[np.abs(zeros['b:float']) < 25]['b:float'], norm_hist=False, kde=False)\n",
    "plt.show()"
   ]
  },
  {
   "cell_type": "code",
   "execution_count": null,
   "metadata": {},
   "outputs": [],
   "source": [
    "sns.distplot(zeros.loc[np.abs(zeros['b:float']) < 2.5]['b:float'], norm_hist=False, kde=False)\n",
    "plt.show()"
   ]
  },
  {
   "cell_type": "code",
   "execution_count": null,
   "metadata": {},
   "outputs": [],
   "source": [
    "lim = 1\n",
    "between_prop = round(sum(np.abs(zeros['b:float']) < lim)/len(zeros), 3)\n",
    "print(f'{between_prop*100}% of edges exist between effect sizes {-lim} and {lim}')"
   ]
  },
  {
   "cell_type": "code",
   "execution_count": null,
   "metadata": {},
   "outputs": [],
   "source": [
    "lim = 2.5\n",
    "between_prop = round(sum(np.abs(zeros['b:float']) < lim)/len(zeros), 3)\n",
    "print(f'{between_prop*100}% of edges exist between effect sizes {-lim} and {lim}')"
   ]
  },
  {
   "cell_type": "code",
   "execution_count": null,
   "metadata": {},
   "outputs": [],
   "source": [
    "def null_overlap(args, null_val=0):\n",
    "    a = args[0]\n",
    "    b = args[1]\n",
    "    if (a < null_val and b > null_val) or (a > null_val and b < null_val):\n",
    "        return True\n",
    "    return False\n",
    "\n",
    "zeros['null'] = list(map(null_overlap, [[row['ci_low'], row['ci_upp']] for i, row in zeros.iterrows()]))"
   ]
  },
  {
   "cell_type": "code",
   "execution_count": null,
   "metadata": {},
   "outputs": [],
   "source": [
    "print(f'Only {len(zeros.loc[zeros.null])} edges have CIs that cross the null\\n')\n",
    "\n",
    "zeros.loc[zeros.null]"
   ]
  },
  {
   "source": [
    "# Check for synonymous traits"
   ],
   "cell_type": "markdown",
   "metadata": {}
  },
  {
   "cell_type": "code",
   "execution_count": null,
   "metadata": {},
   "outputs": [],
   "source": [
    "attributes = pd.read_csv('../../../processed/mr-eve/attributes/node_attributes.csv')\n",
    "attributes.head()"
   ]
  },
  {
   "cell_type": "code",
   "execution_count": null,
   "metadata": {},
   "outputs": [],
   "source": [
    "synon_check_df = zeros[['head_node', 'tail_node']].merge(attributes[['id', 'trait']], how='left', left_on='head_node', right_on='id').merge(attributes[['id', 'trait']], how='left', left_on='tail_node', right_on='id').dropna(how='any', axis=0).reset_index(drop=True).drop(['id_x', 'id_y'], axis=1)\n",
    "\n",
    "synon_check_df.head()"
   ]
  },
  {
   "cell_type": "code",
   "execution_count": null,
   "metadata": {},
   "outputs": [],
   "source": [
    "sample = np.random.choice(synon_check_df.index, 100)\n",
    "synon_edges = []\n",
    "non_synon_edges = []\n",
    "for ind in sample:\n",
    "    row = synon_check_df.loc[ind]\n",
    "    print(f'\\n\\n\\nEdge: {row.head_node} - {row.tail_node}')\n",
    "    print(f'\\n {row.trait_x}')\n",
    "    print(f'\\n {row.trait_y}')\n",
    "    while True:\n",
    "        response = input('Is synonymous?')\n",
    "        if response == 'y':\n",
    "            synon_edges.append(row)\n",
    "            break\n",
    "        elif response == 'n':\n",
    "            non_synon_edges.append(row)\n",
    "            break\n",
    "        elif response == 'skip':\n",
    "            break"
   ]
  },
  {
   "cell_type": "code",
   "execution_count": null,
   "metadata": {},
   "outputs": [],
   "source": [
    "print(f'{len(synon_edges)} of {len(synon_edges) + len(non_synon_edges)} edges from the sample were dememed synonymous:\\n\\n')\n",
    "\n",
    "for edge in synon_edges:\n",
    "    print(edge)\n",
    "    print('\\n')"
   ]
  },
  {
   "source": [
    "# Check p-values by deriving Z scores"
   ],
   "cell_type": "markdown",
   "metadata": {}
  },
  {
   "cell_type": "code",
   "execution_count": 50,
   "metadata": {},
   "outputs": [],
   "source": [
    "from scipy.stats import norm"
   ]
  },
  {
   "cell_type": "code",
   "execution_count": 55,
   "metadata": {},
   "outputs": [
    {
     "output_type": "execute_result",
     "data": {
      "text/plain": [
       "            head_node         tail_node  method  nsnp         b        se  \\\n",
       "141       ukb-b-20172  ebi-a-GCST005215  FE IVW     2 -0.458536  0.005123   \n",
       "439       ukb-b-20172         ieu-a-761  FE IVW     2 -0.458536  0.005123   \n",
       "614       ukb-b-20172         met-a-393  FE IVW     2  0.052300  0.000014   \n",
       "817       ukb-b-20172         met-a-596  FE IVW     2  0.071661  0.001676   \n",
       "919       ukb-b-20172         met-a-698  FE IVW     2 -0.120561  0.000727   \n",
       "...               ...               ...     ...   ...       ...       ...   \n",
       "25697170   prot-a-439        ukb-b-7675  FE IVW     2  0.000583  0.000014   \n",
       "25697365   prot-a-439        ukb-b-9058  FE IVW     2  0.000387  0.000004   \n",
       "25697370   prot-a-439        ukb-b-9125  FE IVW     2  0.000356  0.000009   \n",
       "25697904   prot-a-439   ukb-d-30720_raw  FE IVW     3  0.001538  0.000013   \n",
       "25697935   prot-a-439  ukb-d-30880_irnt  FE IVW     3  0.002309  0.000050   \n",
       "\n",
       "            ci_low    ci_upp  pval selection  moescore           source\\n  \\\n",
       "141      -0.468577 -0.448494   0.0        DF       1.0  MR-EvE-2021-03-10   \n",
       "439      -0.468577 -0.448494   0.0        DF       1.0  MR-EvE-2021-03-10   \n",
       "614       0.052272  0.052327   0.0        DF       1.0  MR-EvE-2021-03-10   \n",
       "817       0.068377  0.074945   0.0        DF       1.0  MR-EvE-2021-03-10   \n",
       "919      -0.121985 -0.119137   0.0        DF       1.0  MR-EvE-2021-03-10   \n",
       "...            ...       ...   ...       ...       ...                ...   \n",
       "25697170  0.000556  0.000610   0.0        DF       1.0  MR-EvE-2021-03-10   \n",
       "25697365  0.000379  0.000396   0.0        DF       1.0  MR-EvE-2021-03-10   \n",
       "25697370  0.000339  0.000374   0.0        DF       1.0  MR-EvE-2021-03-10   \n",
       "25697904  0.001513  0.001564   0.0        DF       1.0  MR-EvE-2021-03-10   \n",
       "25697935  0.002211  0.002408   0.0        DF       1.0  MR-EvE-2021-03-10   \n",
       "\n",
       "                    z  p_derived  \n",
       "141        -89.500831        0.0  \n",
       "439        -89.500831        0.0  \n",
       "614       3730.091220        0.0  \n",
       "817         42.768744        0.0  \n",
       "919       -165.947298        0.0  \n",
       "...               ...        ...  \n",
       "25697170    42.081577        0.0  \n",
       "25697365    88.372093        0.0  \n",
       "25697370    40.004332        0.0  \n",
       "25697904   119.324644        0.0  \n",
       "25697935    45.911735        0.0  \n",
       "\n",
       "[48084 rows x 14 columns]"
      ],
      "text/html": "<div>\n<style scoped>\n    .dataframe tbody tr th:only-of-type {\n        vertical-align: middle;\n    }\n\n    .dataframe tbody tr th {\n        vertical-align: top;\n    }\n\n    .dataframe thead th {\n        text-align: right;\n    }\n</style>\n<table border=\"1\" class=\"dataframe\">\n  <thead>\n    <tr style=\"text-align: right;\">\n      <th></th>\n      <th>head_node</th>\n      <th>tail_node</th>\n      <th>method</th>\n      <th>nsnp</th>\n      <th>b</th>\n      <th>se</th>\n      <th>ci_low</th>\n      <th>ci_upp</th>\n      <th>pval</th>\n      <th>selection</th>\n      <th>moescore</th>\n      <th>source\\n</th>\n      <th>z</th>\n      <th>p_derived</th>\n    </tr>\n  </thead>\n  <tbody>\n    <tr>\n      <th>141</th>\n      <td>ukb-b-20172</td>\n      <td>ebi-a-GCST005215</td>\n      <td>FE IVW</td>\n      <td>2</td>\n      <td>-0.458536</td>\n      <td>0.005123</td>\n      <td>-0.468577</td>\n      <td>-0.448494</td>\n      <td>0.0</td>\n      <td>DF</td>\n      <td>1.0</td>\n      <td>MR-EvE-2021-03-10</td>\n      <td>-89.500831</td>\n      <td>0.0</td>\n    </tr>\n    <tr>\n      <th>439</th>\n      <td>ukb-b-20172</td>\n      <td>ieu-a-761</td>\n      <td>FE IVW</td>\n      <td>2</td>\n      <td>-0.458536</td>\n      <td>0.005123</td>\n      <td>-0.468577</td>\n      <td>-0.448494</td>\n      <td>0.0</td>\n      <td>DF</td>\n      <td>1.0</td>\n      <td>MR-EvE-2021-03-10</td>\n      <td>-89.500831</td>\n      <td>0.0</td>\n    </tr>\n    <tr>\n      <th>614</th>\n      <td>ukb-b-20172</td>\n      <td>met-a-393</td>\n      <td>FE IVW</td>\n      <td>2</td>\n      <td>0.052300</td>\n      <td>0.000014</td>\n      <td>0.052272</td>\n      <td>0.052327</td>\n      <td>0.0</td>\n      <td>DF</td>\n      <td>1.0</td>\n      <td>MR-EvE-2021-03-10</td>\n      <td>3730.091220</td>\n      <td>0.0</td>\n    </tr>\n    <tr>\n      <th>817</th>\n      <td>ukb-b-20172</td>\n      <td>met-a-596</td>\n      <td>FE IVW</td>\n      <td>2</td>\n      <td>0.071661</td>\n      <td>0.001676</td>\n      <td>0.068377</td>\n      <td>0.074945</td>\n      <td>0.0</td>\n      <td>DF</td>\n      <td>1.0</td>\n      <td>MR-EvE-2021-03-10</td>\n      <td>42.768744</td>\n      <td>0.0</td>\n    </tr>\n    <tr>\n      <th>919</th>\n      <td>ukb-b-20172</td>\n      <td>met-a-698</td>\n      <td>FE IVW</td>\n      <td>2</td>\n      <td>-0.120561</td>\n      <td>0.000727</td>\n      <td>-0.121985</td>\n      <td>-0.119137</td>\n      <td>0.0</td>\n      <td>DF</td>\n      <td>1.0</td>\n      <td>MR-EvE-2021-03-10</td>\n      <td>-165.947298</td>\n      <td>0.0</td>\n    </tr>\n    <tr>\n      <th>...</th>\n      <td>...</td>\n      <td>...</td>\n      <td>...</td>\n      <td>...</td>\n      <td>...</td>\n      <td>...</td>\n      <td>...</td>\n      <td>...</td>\n      <td>...</td>\n      <td>...</td>\n      <td>...</td>\n      <td>...</td>\n      <td>...</td>\n      <td>...</td>\n    </tr>\n    <tr>\n      <th>25697170</th>\n      <td>prot-a-439</td>\n      <td>ukb-b-7675</td>\n      <td>FE IVW</td>\n      <td>2</td>\n      <td>0.000583</td>\n      <td>0.000014</td>\n      <td>0.000556</td>\n      <td>0.000610</td>\n      <td>0.0</td>\n      <td>DF</td>\n      <td>1.0</td>\n      <td>MR-EvE-2021-03-10</td>\n      <td>42.081577</td>\n      <td>0.0</td>\n    </tr>\n    <tr>\n      <th>25697365</th>\n      <td>prot-a-439</td>\n      <td>ukb-b-9058</td>\n      <td>FE IVW</td>\n      <td>2</td>\n      <td>0.000387</td>\n      <td>0.000004</td>\n      <td>0.000379</td>\n      <td>0.000396</td>\n      <td>0.0</td>\n      <td>DF</td>\n      <td>1.0</td>\n      <td>MR-EvE-2021-03-10</td>\n      <td>88.372093</td>\n      <td>0.0</td>\n    </tr>\n    <tr>\n      <th>25697370</th>\n      <td>prot-a-439</td>\n      <td>ukb-b-9125</td>\n      <td>FE IVW</td>\n      <td>2</td>\n      <td>0.000356</td>\n      <td>0.000009</td>\n      <td>0.000339</td>\n      <td>0.000374</td>\n      <td>0.0</td>\n      <td>DF</td>\n      <td>1.0</td>\n      <td>MR-EvE-2021-03-10</td>\n      <td>40.004332</td>\n      <td>0.0</td>\n    </tr>\n    <tr>\n      <th>25697904</th>\n      <td>prot-a-439</td>\n      <td>ukb-d-30720_raw</td>\n      <td>FE IVW</td>\n      <td>3</td>\n      <td>0.001538</td>\n      <td>0.000013</td>\n      <td>0.001513</td>\n      <td>0.001564</td>\n      <td>0.0</td>\n      <td>DF</td>\n      <td>1.0</td>\n      <td>MR-EvE-2021-03-10</td>\n      <td>119.324644</td>\n      <td>0.0</td>\n    </tr>\n    <tr>\n      <th>25697935</th>\n      <td>prot-a-439</td>\n      <td>ukb-d-30880_irnt</td>\n      <td>FE IVW</td>\n      <td>3</td>\n      <td>0.002309</td>\n      <td>0.000050</td>\n      <td>0.002211</td>\n      <td>0.002408</td>\n      <td>0.0</td>\n      <td>DF</td>\n      <td>1.0</td>\n      <td>MR-EvE-2021-03-10</td>\n      <td>45.911735</td>\n      <td>0.0</td>\n    </tr>\n  </tbody>\n</table>\n<p>48084 rows × 14 columns</p>\n</div>"
     },
     "metadata": {},
     "execution_count": 55
    }
   ],
   "source": [
    "zeros['z'] = zeros.b/zeros.se\n",
    "zeros['p_derived'] = norm.sf(np.abs(zeros.z)) * 2 # double because 2-tailed test\n",
    "zeros"
   ]
  },
  {
   "cell_type": "code",
   "execution_count": 52,
   "metadata": {},
   "outputs": [
    {
     "output_type": "execute_result",
     "data": {
      "text/plain": [
       "            head_node    tail_node  method  nsnp         b        se  \\\n",
       "3242922     met-c-841    ukb-a-344  FE IVW     2  0.101516  0.002694   \n",
       "8113645    prot-a-884   ubm-a-1260  FE IVW     2  0.076234  0.002023   \n",
       "14307887  prot-a-1403   ubm-a-1010  FE IVW     2 -0.019972  0.000530   \n",
       "4299812    prot-a-607  ukb-b-20414  FE IVW     2  0.000354  0.000009   \n",
       "9349898     prot-a-10    ukb-a-289  FE IVW     2 -0.007796  0.000207   \n",
       "...               ...          ...     ...   ...       ...       ...   \n",
       "24267995  prot-a-1174   ukb-b-5309  FE IVW     2 -0.043904  0.001170   \n",
       "7409045     ubm-a-805    ubm-a-506  FE IVW     2  0.794422  0.021170   \n",
       "268402    prot-a-1573   ukb-b-1226  FE IVW     2 -0.036664  0.000977   \n",
       "2865598    ukb-b-4943   prot-a-914  FE IVW     2  0.324615  0.008651   \n",
       "14141951  prot-a-2341    met-c-887  FE IVW     2  0.059820  0.001594   \n",
       "\n",
       "            ci_low    ci_upp  pval selection  moescore           source\\n  \\\n",
       "3242922   0.096235  0.106797   0.0        DF       1.0  MR-EvE-2021-03-10   \n",
       "8113645   0.072268  0.080199   0.0        DF       1.0  MR-EvE-2021-03-10   \n",
       "14307887 -0.021011 -0.018933   0.0        DF       1.0  MR-EvE-2021-03-10   \n",
       "4299812   0.000335  0.000372   0.0        DF       1.0  MR-EvE-2021-03-10   \n",
       "9349898  -0.008201 -0.007390   0.0        DF       1.0  MR-EvE-2021-03-10   \n",
       "...            ...       ...   ...       ...       ...                ...   \n",
       "24267995 -0.046197 -0.041611   0.0        DF       1.0  MR-EvE-2021-03-10   \n",
       "7409045   0.752929  0.835916   0.0        DF       1.0  MR-EvE-2021-03-10   \n",
       "268402   -0.038579 -0.034749   0.0        DF       1.0  MR-EvE-2021-03-10   \n",
       "2865598   0.307658  0.341572   0.0        DF       1.0  MR-EvE-2021-03-10   \n",
       "14141951  0.056695  0.062945   0.0        DF       1.0  MR-EvE-2021-03-10   \n",
       "\n",
       "                  z      p_derived  \n",
       "3242922   37.675814  1.236642e-310  \n",
       "8113645   37.674888  1.280569e-310  \n",
       "14307887 -37.674203  1.314066e-310  \n",
       "4299812   37.674004  1.323957e-310  \n",
       "9349898  -37.673428  1.353012e-310  \n",
       "...             ...            ...  \n",
       "24267995 -37.525530  3.532383e-308  \n",
       "7409045   37.525504  3.535929e-308  \n",
       "268402   -37.523867  3.760078e-308  \n",
       "2865598   37.521611  4.092387e-308  \n",
       "14141951  37.521173  4.160319e-308  \n",
       "\n",
       "[253 rows x 14 columns]"
      ],
      "text/html": "<div>\n<style scoped>\n    .dataframe tbody tr th:only-of-type {\n        vertical-align: middle;\n    }\n\n    .dataframe tbody tr th {\n        vertical-align: top;\n    }\n\n    .dataframe thead th {\n        text-align: right;\n    }\n</style>\n<table border=\"1\" class=\"dataframe\">\n  <thead>\n    <tr style=\"text-align: right;\">\n      <th></th>\n      <th>head_node</th>\n      <th>tail_node</th>\n      <th>method</th>\n      <th>nsnp</th>\n      <th>b</th>\n      <th>se</th>\n      <th>ci_low</th>\n      <th>ci_upp</th>\n      <th>pval</th>\n      <th>selection</th>\n      <th>moescore</th>\n      <th>source\\n</th>\n      <th>z</th>\n      <th>p_derived</th>\n    </tr>\n  </thead>\n  <tbody>\n    <tr>\n      <th>3242922</th>\n      <td>met-c-841</td>\n      <td>ukb-a-344</td>\n      <td>FE IVW</td>\n      <td>2</td>\n      <td>0.101516</td>\n      <td>0.002694</td>\n      <td>0.096235</td>\n      <td>0.106797</td>\n      <td>0.0</td>\n      <td>DF</td>\n      <td>1.0</td>\n      <td>MR-EvE-2021-03-10</td>\n      <td>37.675814</td>\n      <td>1.236642e-310</td>\n    </tr>\n    <tr>\n      <th>8113645</th>\n      <td>prot-a-884</td>\n      <td>ubm-a-1260</td>\n      <td>FE IVW</td>\n      <td>2</td>\n      <td>0.076234</td>\n      <td>0.002023</td>\n      <td>0.072268</td>\n      <td>0.080199</td>\n      <td>0.0</td>\n      <td>DF</td>\n      <td>1.0</td>\n      <td>MR-EvE-2021-03-10</td>\n      <td>37.674888</td>\n      <td>1.280569e-310</td>\n    </tr>\n    <tr>\n      <th>14307887</th>\n      <td>prot-a-1403</td>\n      <td>ubm-a-1010</td>\n      <td>FE IVW</td>\n      <td>2</td>\n      <td>-0.019972</td>\n      <td>0.000530</td>\n      <td>-0.021011</td>\n      <td>-0.018933</td>\n      <td>0.0</td>\n      <td>DF</td>\n      <td>1.0</td>\n      <td>MR-EvE-2021-03-10</td>\n      <td>-37.674203</td>\n      <td>1.314066e-310</td>\n    </tr>\n    <tr>\n      <th>4299812</th>\n      <td>prot-a-607</td>\n      <td>ukb-b-20414</td>\n      <td>FE IVW</td>\n      <td>2</td>\n      <td>0.000354</td>\n      <td>0.000009</td>\n      <td>0.000335</td>\n      <td>0.000372</td>\n      <td>0.0</td>\n      <td>DF</td>\n      <td>1.0</td>\n      <td>MR-EvE-2021-03-10</td>\n      <td>37.674004</td>\n      <td>1.323957e-310</td>\n    </tr>\n    <tr>\n      <th>9349898</th>\n      <td>prot-a-10</td>\n      <td>ukb-a-289</td>\n      <td>FE IVW</td>\n      <td>2</td>\n      <td>-0.007796</td>\n      <td>0.000207</td>\n      <td>-0.008201</td>\n      <td>-0.007390</td>\n      <td>0.0</td>\n      <td>DF</td>\n      <td>1.0</td>\n      <td>MR-EvE-2021-03-10</td>\n      <td>-37.673428</td>\n      <td>1.353012e-310</td>\n    </tr>\n    <tr>\n      <th>...</th>\n      <td>...</td>\n      <td>...</td>\n      <td>...</td>\n      <td>...</td>\n      <td>...</td>\n      <td>...</td>\n      <td>...</td>\n      <td>...</td>\n      <td>...</td>\n      <td>...</td>\n      <td>...</td>\n      <td>...</td>\n      <td>...</td>\n      <td>...</td>\n    </tr>\n    <tr>\n      <th>24267995</th>\n      <td>prot-a-1174</td>\n      <td>ukb-b-5309</td>\n      <td>FE IVW</td>\n      <td>2</td>\n      <td>-0.043904</td>\n      <td>0.001170</td>\n      <td>-0.046197</td>\n      <td>-0.041611</td>\n      <td>0.0</td>\n      <td>DF</td>\n      <td>1.0</td>\n      <td>MR-EvE-2021-03-10</td>\n      <td>-37.525530</td>\n      <td>3.532383e-308</td>\n    </tr>\n    <tr>\n      <th>7409045</th>\n      <td>ubm-a-805</td>\n      <td>ubm-a-506</td>\n      <td>FE IVW</td>\n      <td>2</td>\n      <td>0.794422</td>\n      <td>0.021170</td>\n      <td>0.752929</td>\n      <td>0.835916</td>\n      <td>0.0</td>\n      <td>DF</td>\n      <td>1.0</td>\n      <td>MR-EvE-2021-03-10</td>\n      <td>37.525504</td>\n      <td>3.535929e-308</td>\n    </tr>\n    <tr>\n      <th>268402</th>\n      <td>prot-a-1573</td>\n      <td>ukb-b-1226</td>\n      <td>FE IVW</td>\n      <td>2</td>\n      <td>-0.036664</td>\n      <td>0.000977</td>\n      <td>-0.038579</td>\n      <td>-0.034749</td>\n      <td>0.0</td>\n      <td>DF</td>\n      <td>1.0</td>\n      <td>MR-EvE-2021-03-10</td>\n      <td>-37.523867</td>\n      <td>3.760078e-308</td>\n    </tr>\n    <tr>\n      <th>2865598</th>\n      <td>ukb-b-4943</td>\n      <td>prot-a-914</td>\n      <td>FE IVW</td>\n      <td>2</td>\n      <td>0.324615</td>\n      <td>0.008651</td>\n      <td>0.307658</td>\n      <td>0.341572</td>\n      <td>0.0</td>\n      <td>DF</td>\n      <td>1.0</td>\n      <td>MR-EvE-2021-03-10</td>\n      <td>37.521611</td>\n      <td>4.092387e-308</td>\n    </tr>\n    <tr>\n      <th>14141951</th>\n      <td>prot-a-2341</td>\n      <td>met-c-887</td>\n      <td>FE IVW</td>\n      <td>2</td>\n      <td>0.059820</td>\n      <td>0.001594</td>\n      <td>0.056695</td>\n      <td>0.062945</td>\n      <td>0.0</td>\n      <td>DF</td>\n      <td>1.0</td>\n      <td>MR-EvE-2021-03-10</td>\n      <td>37.521173</td>\n      <td>4.160319e-308</td>\n    </tr>\n  </tbody>\n</table>\n<p>253 rows × 14 columns</p>\n</div>"
     },
     "metadata": {},
     "execution_count": 52
    }
   ],
   "source": [
    "zeros.loc[zeros.p_derived > 0].sort_values('p_derived')"
   ]
  },
  {
   "source": [
    "### The vast majority of derived p-values are also 0, with only 253 out of ~48000 being non-zero. Furthermore, of these 253 non-zeros the largest pval is 4.1e-308. This should act as strong evidence (pun intended) that winsorising these edge weights to the otherwise-highest value is a fine way of dealing with them."
   ],
   "cell_type": "markdown",
   "metadata": {}
  },
  {
   "source": [
    "# Checking CIs against standard errors"
   ],
   "cell_type": "markdown",
   "metadata": {}
  },
  {
   "cell_type": "code",
   "execution_count": 54,
   "metadata": {},
   "outputs": [
    {
     "output_type": "execute_result",
     "data": {
      "text/plain": [
       "            head_node    tail_node  method  nsnp         b        se  \\\n",
       "23113877  prot-a-1306  prot-a-1052  FE IVW     4  0.022059  0.031179   \n",
       "22332613    ieu-a-800    ubm-a-218  FE IVW     4 -0.030352  0.055652   \n",
       "20643541  prot-a-2926   ubm-a-2040  FE IVW     3 -0.002798  0.025585   \n",
       "12769650    ukb-a-313   ubm-a-1201  FE IVW     2  0.500982  0.518944   \n",
       "16120012     ukb-a-26     ubm-a-49  FE IVW    13  0.091010  0.231631   \n",
       "...               ...          ...     ...   ...       ...       ...   \n",
       "18556491    ubm-a-146   ukb-b-2729  FE IVW     4 -0.058985  0.090764   \n",
       "10688170    ubm-a-488  prot-a-3232  FE IVW     5 -0.061195  0.095849   \n",
       "8588681   prot-a-1622    prot-a-20  FE IVW     4  0.012349  0.036057   \n",
       "846459    prot-a-1930  prot-a-1340  FE IVW     4  0.048883  0.065208   \n",
       "4576168    ukb-b-2732   prot-a-703  FE IVW     3  0.009335  0.219603   \n",
       "\n",
       "            ci_low    ci_upp      pval selection  moescore           source\\n  \n",
       "23113877 -0.057397  0.101514  0.479267        DF      1.00  MR-EvE-2021-03-10  \n",
       "22332613 -0.166503  0.105800  0.585492        DF      1.00  MR-EvE-2021-03-10  \n",
       "20643541 -0.076729  0.071132  0.912905        DF      1.00  MR-EvE-2021-03-10  \n",
       "12769650 -0.920429  1.922394  0.334351        DF      1.00  MR-EvE-2021-03-10  \n",
       "16120012 -0.614371  0.796391  0.694386   Tophits      0.69  MR-EvE-2021-03-10  \n",
       "...            ...       ...       ...       ...       ...                ...  \n",
       "18556491 -0.367170  0.249200  0.515774        DF      1.00  MR-EvE-2021-03-10  \n",
       "10688170 -0.462611  0.340222  0.523181        DF      1.00  MR-EvE-2021-03-10  \n",
       "8588681  -0.132330  0.157028  0.731990        DF      1.00  MR-EvE-2021-03-10  \n",
       "846459   -0.167158  0.264923  0.453466        DF      1.00  MR-EvE-2021-03-10  \n",
       "4576168  -0.632303  0.650972  0.966095        DF      1.00  MR-EvE-2021-03-10  \n",
       "\n",
       "[113 rows x 12 columns]"
      ],
      "text/html": "<div>\n<style scoped>\n    .dataframe tbody tr th:only-of-type {\n        vertical-align: middle;\n    }\n\n    .dataframe tbody tr th {\n        vertical-align: top;\n    }\n\n    .dataframe thead th {\n        text-align: right;\n    }\n</style>\n<table border=\"1\" class=\"dataframe\">\n  <thead>\n    <tr style=\"text-align: right;\">\n      <th></th>\n      <th>head_node</th>\n      <th>tail_node</th>\n      <th>method</th>\n      <th>nsnp</th>\n      <th>b</th>\n      <th>se</th>\n      <th>ci_low</th>\n      <th>ci_upp</th>\n      <th>pval</th>\n      <th>selection</th>\n      <th>moescore</th>\n      <th>source\\n</th>\n    </tr>\n  </thead>\n  <tbody>\n    <tr>\n      <th>23113877</th>\n      <td>prot-a-1306</td>\n      <td>prot-a-1052</td>\n      <td>FE IVW</td>\n      <td>4</td>\n      <td>0.022059</td>\n      <td>0.031179</td>\n      <td>-0.057397</td>\n      <td>0.101514</td>\n      <td>0.479267</td>\n      <td>DF</td>\n      <td>1.00</td>\n      <td>MR-EvE-2021-03-10</td>\n    </tr>\n    <tr>\n      <th>22332613</th>\n      <td>ieu-a-800</td>\n      <td>ubm-a-218</td>\n      <td>FE IVW</td>\n      <td>4</td>\n      <td>-0.030352</td>\n      <td>0.055652</td>\n      <td>-0.166503</td>\n      <td>0.105800</td>\n      <td>0.585492</td>\n      <td>DF</td>\n      <td>1.00</td>\n      <td>MR-EvE-2021-03-10</td>\n    </tr>\n    <tr>\n      <th>20643541</th>\n      <td>prot-a-2926</td>\n      <td>ubm-a-2040</td>\n      <td>FE IVW</td>\n      <td>3</td>\n      <td>-0.002798</td>\n      <td>0.025585</td>\n      <td>-0.076729</td>\n      <td>0.071132</td>\n      <td>0.912905</td>\n      <td>DF</td>\n      <td>1.00</td>\n      <td>MR-EvE-2021-03-10</td>\n    </tr>\n    <tr>\n      <th>12769650</th>\n      <td>ukb-a-313</td>\n      <td>ubm-a-1201</td>\n      <td>FE IVW</td>\n      <td>2</td>\n      <td>0.500982</td>\n      <td>0.518944</td>\n      <td>-0.920429</td>\n      <td>1.922394</td>\n      <td>0.334351</td>\n      <td>DF</td>\n      <td>1.00</td>\n      <td>MR-EvE-2021-03-10</td>\n    </tr>\n    <tr>\n      <th>16120012</th>\n      <td>ukb-a-26</td>\n      <td>ubm-a-49</td>\n      <td>FE IVW</td>\n      <td>13</td>\n      <td>0.091010</td>\n      <td>0.231631</td>\n      <td>-0.614371</td>\n      <td>0.796391</td>\n      <td>0.694386</td>\n      <td>Tophits</td>\n      <td>0.69</td>\n      <td>MR-EvE-2021-03-10</td>\n    </tr>\n    <tr>\n      <th>...</th>\n      <td>...</td>\n      <td>...</td>\n      <td>...</td>\n      <td>...</td>\n      <td>...</td>\n      <td>...</td>\n      <td>...</td>\n      <td>...</td>\n      <td>...</td>\n      <td>...</td>\n      <td>...</td>\n      <td>...</td>\n    </tr>\n    <tr>\n      <th>18556491</th>\n      <td>ubm-a-146</td>\n      <td>ukb-b-2729</td>\n      <td>FE IVW</td>\n      <td>4</td>\n      <td>-0.058985</td>\n      <td>0.090764</td>\n      <td>-0.367170</td>\n      <td>0.249200</td>\n      <td>0.515774</td>\n      <td>DF</td>\n      <td>1.00</td>\n      <td>MR-EvE-2021-03-10</td>\n    </tr>\n    <tr>\n      <th>10688170</th>\n      <td>ubm-a-488</td>\n      <td>prot-a-3232</td>\n      <td>FE IVW</td>\n      <td>5</td>\n      <td>-0.061195</td>\n      <td>0.095849</td>\n      <td>-0.462611</td>\n      <td>0.340222</td>\n      <td>0.523181</td>\n      <td>DF</td>\n      <td>1.00</td>\n      <td>MR-EvE-2021-03-10</td>\n    </tr>\n    <tr>\n      <th>8588681</th>\n      <td>prot-a-1622</td>\n      <td>prot-a-20</td>\n      <td>FE IVW</td>\n      <td>4</td>\n      <td>0.012349</td>\n      <td>0.036057</td>\n      <td>-0.132330</td>\n      <td>0.157028</td>\n      <td>0.731990</td>\n      <td>DF</td>\n      <td>1.00</td>\n      <td>MR-EvE-2021-03-10</td>\n    </tr>\n    <tr>\n      <th>846459</th>\n      <td>prot-a-1930</td>\n      <td>prot-a-1340</td>\n      <td>FE IVW</td>\n      <td>4</td>\n      <td>0.048883</td>\n      <td>0.065208</td>\n      <td>-0.167158</td>\n      <td>0.264923</td>\n      <td>0.453466</td>\n      <td>DF</td>\n      <td>1.00</td>\n      <td>MR-EvE-2021-03-10</td>\n    </tr>\n    <tr>\n      <th>4576168</th>\n      <td>ukb-b-2732</td>\n      <td>prot-a-703</td>\n      <td>FE IVW</td>\n      <td>3</td>\n      <td>0.009335</td>\n      <td>0.219603</td>\n      <td>-0.632303</td>\n      <td>0.650972</td>\n      <td>0.966095</td>\n      <td>DF</td>\n      <td>1.00</td>\n      <td>MR-EvE-2021-03-10</td>\n    </tr>\n  </tbody>\n</table>\n<p>113 rows × 12 columns</p>\n</div>"
     },
     "metadata": {},
     "execution_count": 54
    }
   ],
   "source": [
    "# Check non-zero-pval edges for funky SE and CIs\n",
    "problem_ids = []\n",
    "tol = 0.01\n",
    "sample = np.random.choice(non_zeros.index, 1000)\n",
    "for i in sample:\n",
    "    row = non_zeros.loc[i]\n",
    "    ci_low_diff = row.ci_low - (row.b - 1.96 * row.se)\n",
    "    ci_upp_diff = row.ci_upp - (row.b + 1.96 * row.se)\n",
    "    if np.abs(ci_low_diff) > tol or np.abs(ci_upp_diff) > tol:\n",
    "        problem_ids.append(i)\n",
    "\n",
    "non_zeros.loc[problem_ids]"
   ]
  },
  {
   "cell_type": "code",
   "execution_count": 53,
   "metadata": {},
   "outputs": [
    {
     "output_type": "execute_result",
     "data": {
      "text/plain": [
       "            head_node         tail_node  method  nsnp         b        se  \\\n",
       "15999462    ukb-a-336       ukb-b-11842  FE IVW   208  0.440798  0.009320   \n",
       "3971976   ukb-b-14713         ukb-a-195  FE IVW   255  0.880678  0.011190   \n",
       "13385062  ukb-b-11842        ukb-b-2122  FE IVW   476  0.712920  0.010569   \n",
       "5696715      ieu-a-55         ukb-a-293  FE IVW    64  0.384501  0.009705   \n",
       "12630562    ukb-a-267       ukb-b-10787  FE IVW   367  0.973638  0.008045   \n",
       "7505440   prot-a-1854  ebi-a-GCST007236  FE IVW     4  1.040172  0.026286   \n",
       "7505440   prot-a-1854  ebi-a-GCST007236  FE IVW     4  1.040172  0.026286   \n",
       "\n",
       "            ci_low    ci_upp  pval selection  moescore           source\\n  \\\n",
       "15999462  0.378397  0.503199   0.0   Tophits      0.82  MR-EvE-2021-03-10   \n",
       "3971976   0.810222  0.951134   0.0   Tophits      0.78  MR-EvE-2021-03-10   \n",
       "13385062  0.681097  0.744743   0.0   Tophits      0.87  MR-EvE-2021-03-10   \n",
       "5696715   0.323840  0.445161   0.0        DF      0.91  MR-EvE-2021-03-10   \n",
       "12630562  0.912156  1.035119   0.0   Tophits      0.82  MR-EvE-2021-03-10   \n",
       "7505440   0.094191  1.986152   0.0        DF      1.00  MR-EvE-2021-03-10   \n",
       "7505440   0.094191  1.986152   0.0        DF      1.00  MR-EvE-2021-03-10   \n",
       "\n",
       "                   z  p_derived  \n",
       "15999462   47.293490        0.0  \n",
       "3971976    78.702189        0.0  \n",
       "13385062   67.453128        0.0  \n",
       "5696715    39.620666        0.0  \n",
       "12630562  121.018601        0.0  \n",
       "7505440    39.571596        0.0  \n",
       "7505440    39.571596        0.0  "
      ],
      "text/html": "<div>\n<style scoped>\n    .dataframe tbody tr th:only-of-type {\n        vertical-align: middle;\n    }\n\n    .dataframe tbody tr th {\n        vertical-align: top;\n    }\n\n    .dataframe thead th {\n        text-align: right;\n    }\n</style>\n<table border=\"1\" class=\"dataframe\">\n  <thead>\n    <tr style=\"text-align: right;\">\n      <th></th>\n      <th>head_node</th>\n      <th>tail_node</th>\n      <th>method</th>\n      <th>nsnp</th>\n      <th>b</th>\n      <th>se</th>\n      <th>ci_low</th>\n      <th>ci_upp</th>\n      <th>pval</th>\n      <th>selection</th>\n      <th>moescore</th>\n      <th>source\\n</th>\n      <th>z</th>\n      <th>p_derived</th>\n    </tr>\n  </thead>\n  <tbody>\n    <tr>\n      <th>15999462</th>\n      <td>ukb-a-336</td>\n      <td>ukb-b-11842</td>\n      <td>FE IVW</td>\n      <td>208</td>\n      <td>0.440798</td>\n      <td>0.009320</td>\n      <td>0.378397</td>\n      <td>0.503199</td>\n      <td>0.0</td>\n      <td>Tophits</td>\n      <td>0.82</td>\n      <td>MR-EvE-2021-03-10</td>\n      <td>47.293490</td>\n      <td>0.0</td>\n    </tr>\n    <tr>\n      <th>3971976</th>\n      <td>ukb-b-14713</td>\n      <td>ukb-a-195</td>\n      <td>FE IVW</td>\n      <td>255</td>\n      <td>0.880678</td>\n      <td>0.011190</td>\n      <td>0.810222</td>\n      <td>0.951134</td>\n      <td>0.0</td>\n      <td>Tophits</td>\n      <td>0.78</td>\n      <td>MR-EvE-2021-03-10</td>\n      <td>78.702189</td>\n      <td>0.0</td>\n    </tr>\n    <tr>\n      <th>13385062</th>\n      <td>ukb-b-11842</td>\n      <td>ukb-b-2122</td>\n      <td>FE IVW</td>\n      <td>476</td>\n      <td>0.712920</td>\n      <td>0.010569</td>\n      <td>0.681097</td>\n      <td>0.744743</td>\n      <td>0.0</td>\n      <td>Tophits</td>\n      <td>0.87</td>\n      <td>MR-EvE-2021-03-10</td>\n      <td>67.453128</td>\n      <td>0.0</td>\n    </tr>\n    <tr>\n      <th>5696715</th>\n      <td>ieu-a-55</td>\n      <td>ukb-a-293</td>\n      <td>FE IVW</td>\n      <td>64</td>\n      <td>0.384501</td>\n      <td>0.009705</td>\n      <td>0.323840</td>\n      <td>0.445161</td>\n      <td>0.0</td>\n      <td>DF</td>\n      <td>0.91</td>\n      <td>MR-EvE-2021-03-10</td>\n      <td>39.620666</td>\n      <td>0.0</td>\n    </tr>\n    <tr>\n      <th>12630562</th>\n      <td>ukb-a-267</td>\n      <td>ukb-b-10787</td>\n      <td>FE IVW</td>\n      <td>367</td>\n      <td>0.973638</td>\n      <td>0.008045</td>\n      <td>0.912156</td>\n      <td>1.035119</td>\n      <td>0.0</td>\n      <td>Tophits</td>\n      <td>0.82</td>\n      <td>MR-EvE-2021-03-10</td>\n      <td>121.018601</td>\n      <td>0.0</td>\n    </tr>\n    <tr>\n      <th>7505440</th>\n      <td>prot-a-1854</td>\n      <td>ebi-a-GCST007236</td>\n      <td>FE IVW</td>\n      <td>4</td>\n      <td>1.040172</td>\n      <td>0.026286</td>\n      <td>0.094191</td>\n      <td>1.986152</td>\n      <td>0.0</td>\n      <td>DF</td>\n      <td>1.00</td>\n      <td>MR-EvE-2021-03-10</td>\n      <td>39.571596</td>\n      <td>0.0</td>\n    </tr>\n    <tr>\n      <th>7505440</th>\n      <td>prot-a-1854</td>\n      <td>ebi-a-GCST007236</td>\n      <td>FE IVW</td>\n      <td>4</td>\n      <td>1.040172</td>\n      <td>0.026286</td>\n      <td>0.094191</td>\n      <td>1.986152</td>\n      <td>0.0</td>\n      <td>DF</td>\n      <td>1.00</td>\n      <td>MR-EvE-2021-03-10</td>\n      <td>39.571596</td>\n      <td>0.0</td>\n    </tr>\n  </tbody>\n</table>\n</div>"
     },
     "metadata": {},
     "execution_count": 53
    }
   ],
   "source": [
    "# Check zero-pval edges for funky SE and CIs\n",
    "\n",
    "problem_ids = []\n",
    "tol = 0.01\n",
    "sample = np.random.choice(zeros.index, 1000)\n",
    "for i in sample:\n",
    "    row = zeros.loc[i]\n",
    "    ci_low_diff = row.ci_low - (row.b - 1.96 * row.se)\n",
    "    ci_upp_diff = row.ci_upp - (row.b + 1.96 * row.se)\n",
    "    if np.abs(ci_low_diff) > tol or np.abs(ci_upp_diff) > tol:\n",
    "        problem_ids.append(i)\n",
    "\n",
    "zeros.loc[problem_ids]"
   ]
  },
  {
   "source": [
    "### In samples of 1000, edges with 0-pvals actually have fewer cases where CI is not consistent with their SEs, compared to the non-0-pval edges."
   ],
   "cell_type": "markdown",
   "metadata": {}
  }
 ]
}